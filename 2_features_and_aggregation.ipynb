{
  "cells": [
    {
      "cell_type": "markdown",
      "metadata": {},
      "source": [
        "# Feature engineering & aggregation\n\nCreate rolling metrics and features."
      ]
    },
    {
      "cell_type": "code",
      "metadata": {},
      "source": [
        "import pandas as pd\nagg = pd.read_csv('submission_package/daily_account_agg.csv', parse_dates=['date'])\nagg = agg.sort_values(['account','date'])\nagg['win_rate_7d'] = agg.groupby('account')['win_rate'].transform(lambda s: s.rolling(7, min_periods=1).mean())\nagg.to_csv('submission_package/daily_account_features.csv', index=False)\nprint('saved daily_account_features.csv')"
      ]
    }
  ],
  "metadata": {
    "kernelspec": {
      "display_name": "Python 3",
      "language": "python",
      "name": "python3"
    },
    "language_info": {
      "name": "python"
    }
  },
  "nbformat": 4,
  "nbformat_minor": 5
}