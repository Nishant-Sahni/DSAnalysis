{
  "cells": [
    {
      "cell_type": "markdown",
      "metadata": {},
      "source": [
        "# Analysis: regression & event study\n\nRun regressions and event study."
      ]
    },
    {
      "cell_type": "code",
      "metadata": {},
      "source": [
        "import pandas as pd\nfrom statsmodels.formula.api import ols\nmerged = pd.read_csv('submission_package/merged_daily_sentiment.csv', parse_dates=['date']).dropna()\nmerged['market_daily_pnl'] = pd.to_numeric(merged['market_daily_pnl'], errors='coerce')\nmerged['sent_index_norm'] = pd.to_numeric(merged['sent_index_norm'], errors='coerce')\nif len(merged)>0:\n    model = ols('market_daily_pnl ~ sent_index_norm', data=merged).fit()\n    print(model.summary())\nelse:\n    print('No merged daily rows to run regression')"
      ]
    }
  ],
  "metadata": {
    "kernelspec": {
      "display_name": "Python 3",
      "language": "python",
      "name": "python3"
    },
    "language_info": {
      "name": "python"
    }
  },
  "nbformat": 4,
  "nbformat_minor": 5
}