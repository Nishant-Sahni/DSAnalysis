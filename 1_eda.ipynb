{
  "cells": [
    {
      "cell_type": "markdown",
      "metadata": {},
      "source": [
        "# EDA: trades & sentiment\n\nBasic checks and plots."
      ]
    },
    {
      "cell_type": "code",
      "metadata": {},
      "source": [
        "import pandas as pd\ntr = pd.read_csv('submission_package/trades_clean.csv', parse_dates=['time'])\nsent = pd.read_csv('submission_package/sentiment_clean.csv', parse_dates=['date'])\nprint(tr.shape)\nprint(sent.shape)\ntr.head()"
      ]
    },
    {
      "cell_type": "code",
      "metadata": {},
      "source": [
        "# quick aggregation\nagg = pd.read_csv('submission_package/daily_account_agg.csv', parse_dates=['date'])\nprint(agg.head())"
      ]
    }
  ],
  "metadata": {
    "kernelspec": {
      "display_name": "Python 3",
      "language": "python",
      "name": "python3"
    },
    "language_info": {
      "name": "python"
    }
  },
  "nbformat": 4,
  "nbformat_minor": 5
}